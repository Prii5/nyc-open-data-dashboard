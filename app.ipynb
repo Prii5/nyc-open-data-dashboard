{
 "cells": [
  {
   "cell_type": "code",
   "execution_count": 3,
   "id": "1157d24a",
   "metadata": {},
   "outputs": [
    {
     "data": {
      "text/html": [
       "\n",
       "        <iframe\n",
       "            width=\"100%\"\n",
       "            height=\"650\"\n",
       "            src=\"http://127.0.0.1:8050/\"\n",
       "            frameborder=\"0\"\n",
       "            allowfullscreen\n",
       "            \n",
       "        ></iframe>\n",
       "        "
      ],
      "text/plain": [
       "<IPython.lib.display.IFrame at 0x13abf00a0>"
      ]
     },
     "metadata": {},
     "output_type": "display_data"
    }
   ],
   "source": [
    "import dash\n",
    "from dash import dcc, html, Input, Output\n",
    "import plotly.express as px\n",
    "import pandas as pd\n",
    "\n",
    "# Loading  Data\n",
    "url = \"https://data.cityofnewyork.us/resource/2td3-mfek.json\"\n",
    "df = pd.read_json(url)\n",
    "\n",
    "# Converting numerical columns\n",
    "df['unduplicated_clients'] = pd.to_numeric(df['unduplicated_clients'], errors='coerce')\n",
    "df.dropna(subset=['unduplicated_clients', 'borough'], inplace=True)\n",
    "\n",
    "# Dash app setup\n",
    "external_stylesheets = ['https://codepen.io/chriddyp/pen/bWLwgP.css']\n",
    "app = dash.Dash(__name__, external_stylesheets=external_stylesheets)\n",
    "server = app.server \n",
    "\n",
    "app.layout = html.Div([\n",
    "    html.H1(\"NYC Senior Services Dashboard (Dash Plotly)\", style={\"textAlign\":\"center\"}),\n",
    "    html.Hr(),\n",
    "    html.P(\"Choose borough of interest:\"),\n",
    "    html.Div(html.Div([\n",
    "        dcc.Dropdown(id='borough-dropdown', clearable=False,\n",
    "                     value=\"BROOKLYN\",\n",
    "                     options=[{'label': x, 'value': x} for x in\n",
    "                              df[\"borough\"].dropna().unique()]),\n",
    "    ],className=\"two columns\"),className=\"row\"),\n",
    "\n",
    "    html.Div(id=\"visual-output\", children=[]),\n",
    "])\n",
    "\n",
    "@app.callback(Output(component_id=\"visual-output\", component_property=\"children\"),\n",
    "              Input(component_id=\"borough-dropdown\", component_property=\"value\"),\n",
    ")\n",
    "def update_graphs(selected_borough):\n",
    "    filtered_df = df[df[\"borough\"] == selected_borough]\n",
    "\n",
    "    # BAR: Total Clients by Program Type\n",
    "    fig_bar = px.bar(filtered_df.groupby(\"program_type\")[\"unduplicated_clients\"].sum().reset_index(),\n",
    "                     x=\"program_type\", y=\"unduplicated_clients\",\n",
    "                     title=\"Total Clients by Program Type\")\n",
    "\n",
    "    # ZIP BAR \n",
    "    zip_counts = filtered_df['zip_code'].value_counts().reset_index()\n",
    "    zip_counts.columns = ['zip_code', 'program_count']\n",
    "    fig_zip = px.bar(zip_counts, x='zip_code', y='program_count',\n",
    "                     labels={'zip_code': 'Zip Code', 'program_count': 'Program Count'},\n",
    "                     title='Programs Count by Zip Code')\n",
    "\n",
    "    # PIE CHART\n",
    "    pie_df = filtered_df['program_type'].value_counts().reset_index()\n",
    "    pie_df.columns = ['program_type', 'count']\n",
    "    fig_pie = px.pie(pie_df, names='program_type', values='count', title='Program Type Distribution')\n",
    "\n",
    "    # BOX PLOT\n",
    "    fig_box = px.box(filtered_df, x='program_type', y='unduplicated_clients',\n",
    "                     title='Client Distribution by Program Type')\n",
    "\n",
    "    # GEO SCATTER\n",
    "    fig_map = px.scatter_mapbox(filtered_df, lat=\"latitude\", lon=\"longitude\",\n",
    "                                size=\"unduplicated_clients\", color=\"program_type\",\n",
    "                                hover_name=\"program_name\", zoom=9,\n",
    "                                mapbox_style=\"open-street-map\", title=\"Program Locations in Borough\")\n",
    "\n",
    "    return [\n",
    "        html.Div([\n",
    "            html.Div([dcc.Graph(figure=fig_bar)], className=\"six columns\"),\n",
    "            html.Div([dcc.Graph(figure=fig_zip)], className=\"six columns\"),\n",
    "        ], className=\"row\"),\n",
    "        html.H2(\"Program Overview\", style={\"textAlign\":\"center\"}),\n",
    "        html.Hr(),\n",
    "        html.Div([\n",
    "            html.Div([dcc.Graph(figure=fig_pie)], className=\"six columns\"),\n",
    "            html.Div([dcc.Graph(figure=fig_box)], className=\"six columns\"),\n",
    "        ], className=\"row\"),\n",
    "        html.Div([\n",
    "            html.Div([dcc.Graph(figure=fig_map)], className=\"twelve columns\"),\n",
    "        ], className=\"row\"),\n",
    "    ]\n",
    "\n",
    "if __name__ == '__main__':\n",
    "    app.run(debug=False)\n"
   ]
  },
  {
   "cell_type": "code",
   "execution_count": null,
   "id": "0f95f2b1",
   "metadata": {},
   "outputs": [],
   "source": []
  }
 ],
 "metadata": {
  "kernelspec": {
   "display_name": "Python 3 (ipykernel)",
   "language": "python",
   "name": "python3"
  },
  "language_info": {
   "codemirror_mode": {
    "name": "ipython",
    "version": 3
   },
   "file_extension": ".py",
   "mimetype": "text/x-python",
   "name": "python",
   "nbconvert_exporter": "python",
   "pygments_lexer": "ipython3",
   "version": "3.9.13"
  }
 },
 "nbformat": 4,
 "nbformat_minor": 5
}
